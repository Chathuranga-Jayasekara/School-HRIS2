{
  "nbformat": 4,
  "nbformat_minor": 0,
  "metadata": {
    "colab": {
      "provenance": [],
      "authorship_tag": "ABX9TyMV1C0nqEvk1g6DhnxVMEol",
      "include_colab_link": true
    },
    "kernelspec": {
      "name": "python3",
      "display_name": "Python 3"
    },
    "language_info": {
      "name": "python"
    }
  },
  "cells": [
    {
      "cell_type": "markdown",
      "metadata": {
        "id": "view-in-github",
        "colab_type": "text"
      },
      "source": [
        "<a href=\"https://colab.research.google.com/github/chathurangaonnet/School-HRIS2/blob/master/Revision_Test.ipynb\" target=\"_parent\"><img src=\"https://colab.research.google.com/assets/colab-badge.svg\" alt=\"Open In Colab\"/></a>"
      ]
    },
    {
      "cell_type": "code",
      "execution_count": 29,
      "metadata": {
        "id": "a3I4q_todbqv",
        "outputId": "8774dd6b-52c0-41a0-fcd1-45bd84eb90f2",
        "colab": {
          "base_uri": "https://localhost:8080/"
        }
      },
      "outputs": [
        {
          "output_type": "stream",
          "name": "stdout",
          "text": [
            "10\n"
          ]
        }
      ],
      "source": [
        "# gradebook = [\n",
        "# ['Jing', 35],\n",
        "# ['Jim', 50],\n",
        "# ['Kerrie', 65],\n",
        "# ['Rakesh', 85]]\n",
        "\n",
        "# print(gradebook[-1][0])\n",
        "\n",
        "\n",
        "\n",
        "# students = ['Jing', 'Jim', 'Kerrie', 'Rakesh']\n",
        "# grades = [35, 50, 65, 85]\n",
        "# gradebook_zip = list(zip(students, grades))\n",
        "\n",
        "# print(gradebook_zip)\n",
        "\n",
        "\n",
        "# ans = list(range(-254, 256, 2))\n",
        "# print(ans)\n",
        "\n",
        "\n",
        "\n",
        "# grades = [35, 50, 65, 85]\n",
        "# for g in grades:\n",
        "# #Any code at this indentation\n",
        "# #will be executed on each\n",
        "# #iteration of the loop\n",
        "\n",
        "\n",
        "\n",
        "# for temp in range(11):\n",
        "# #Iterates 11 times, from 0 to 10\n",
        "# #temp does nothing, but print\n",
        "# #statement repeats the message\n",
        "#   print('I must attend my workshops')\n",
        "\n",
        "\n",
        "# gradebook = [\n",
        "# ['Jing', 35],\n",
        "# ['Jim', 50],\n",
        "# ['Kerrie', 65],\n",
        "# ['Rakesh', 85]\n",
        "# ]\n",
        "\n",
        "# for student in gradebook:\n",
        "#   print(student)\n",
        "#   for detail in student:\n",
        "#     print(detail)\n",
        "\n",
        "\n",
        "# new_list = [i for i in range(11) if i>5]\n",
        "# print(new_list )\n",
        "\n",
        "\n",
        "# def my_function():\n",
        "#   print(\"Hello from a function\") \n",
        "# my_function()\n",
        "\n",
        "\n",
        "numbers = [3, 6, 2, 8, 4, 10, 1]\n",
        "max_num = find_max(numbers)\n",
        "print(max_num)\n",
        "\n",
        "def find_max(numbers):\n",
        "  max_value = numbers[0] # Initialise the max value to the first number in the list\n",
        "  for num in numbers:\n",
        "    if num > max_value:\n",
        "      max_value = num # Update the max value if the current number is greater\n",
        "  return max_value\n"
      ]
    }
  ]
}